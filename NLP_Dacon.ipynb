{
  "nbformat": 4,
  "nbformat_minor": 0,
  "metadata": {
    "colab": {
      "name": "NLP_Dacon.ipynb",
      "provenance": [],
      "collapsed_sections": [],
      "machine_shape": "hm"
    },
    "kernelspec": {
      "name": "python3",
      "display_name": "Python 3"
    },
    "language_info": {
      "name": "python"
    },
    "accelerator": "GPU"
  },
  "cells": [
    {
      "cell_type": "markdown",
      "metadata": {
        "id": "RSY-XtlWQjgC"
      },
      "source": [
        "# 자연어 기반 기후기술분류(DACON)  \n",
        "\n",
        "재미로 해보는 데이콘 경진대회 데이터를 이용한 분류 작업..공부한다고 생각하며 진행하자"
      ]
    },
    {
      "cell_type": "code",
      "metadata": {
        "colab": {
          "base_uri": "https://localhost:8080/"
        },
        "id": "1ZFudgGASeBb",
        "outputId": "5eea455e-f319-4710-d25c-f3455dfbe429"
      },
      "source": [
        "from google.colab import drive\n",
        "drive.mount('/content/drive')"
      ],
      "execution_count": 1,
      "outputs": [
        {
          "output_type": "stream",
          "text": [
            "Mounted at /content/drive\n"
          ],
          "name": "stdout"
        }
      ]
    },
    {
      "cell_type": "code",
      "metadata": {
        "id": "F3vTM8kaSO2V"
      },
      "source": [
        "pip install konlpy"
      ],
      "execution_count": null,
      "outputs": []
    },
    {
      "cell_type": "code",
      "metadata": {
        "colab": {
          "base_uri": "https://localhost:8080/"
        },
        "id": "DL29nPszSsGQ",
        "outputId": "4766be34-5c36-4c60-9c10-bca81a03a8fa"
      },
      "source": [
        "cd /content/drive/MyDrive/dataset/NLP/dacon"
      ],
      "execution_count": 29,
      "outputs": [
        {
          "output_type": "stream",
          "text": [
            "/content/drive/MyDrive/dataset/NLP/dacon\n"
          ],
          "name": "stdout"
        }
      ]
    },
    {
      "cell_type": "code",
      "metadata": {
        "id": "ecxjbgHDQg5o"
      },
      "source": [
        "# 일단 생각나는 패키지 전부 했음. 추후 필요한 것 추가 혹은 필요 없는 것 삭제 할 것\n",
        "import pandas as pd\n",
        "import numpy as np\n",
        "import matplotlib.pyplot as plt\n",
        "import os\n",
        "import tqdm\n",
        "import re\n",
        "import random\n",
        "\n",
        "import tensorflow as tf\n",
        "from tensorflow.keras.preprocessing.text import Tokenizer\n",
        "from tensorflow.keras.preprocessing.sequence import pad_sequences\n",
        "from tensorflow.keras.layers import Dense, Conv1D, Dropout, concatenate, LSTM, GRU, GlobalMaxPool1D, Input, Embedding\n",
        "from tensorflow.keras.optimizers import Adam, Nadam\n",
        "from tensorflow.keras.models import Model\n",
        "\n",
        "from tensorflow.keras.callbacks import EarlyStopping, ModelCheckpoint\n",
        "\n",
        "import konlpy\n",
        "# 한국어에 대한 색인어 추출을 목적으로 하는 Okt 를 사용하기로 일단 결정...!\n",
        "from konlpy.tag import Okt, Komoran, Kkma"
      ],
      "execution_count": 30,
      "outputs": []
    },
    {
      "cell_type": "markdown",
      "metadata": {
        "id": "5_1t37EeTQUv"
      },
      "source": [
        "## Train / Test Dataset 정리  \n",
        "각 데이터를 확인 한 후, 필요한 column을 따라 훈련을 위한 데이터 셋을 새로 생성한다."
      ]
    },
    {
      "cell_type": "code",
      "metadata": {
        "id": "jY6ib8y_TJ2x"
      },
      "source": [
        "train_file = pd.read_csv('./train.csv')\n",
        "test_file = pd.read_csv('./test.csv')\n",
        "label_file = pd.read_csv('./labels_mapping.csv')"
      ],
      "execution_count": 31,
      "outputs": []
    },
    {
      "cell_type": "code",
      "metadata": {
        "id": "uDU4Lg-T_3qa"
      },
      "source": [
        "label_file['소분류'].to_list()"
      ],
      "execution_count": null,
      "outputs": []
    },
    {
      "cell_type": "code",
      "metadata": {
        "id": "ed9mgfSwXZnc"
      },
      "source": [
        "train_file = train_file.drop(['index','계속과제여부','제출년도','내역사업명','사업_부처명','사업명'],axis = 1)"
      ],
      "execution_count": 32,
      "outputs": []
    },
    {
      "cell_type": "code",
      "metadata": {
        "colab": {
          "base_uri": "https://localhost:8080/",
          "height": 272
        },
        "id": "Hh3yNkm09zlG",
        "outputId": "40c86245-8fe0-4fbc-f17a-cbce5b8a0aaf"
      },
      "source": [
        "train_file.head()"
      ],
      "execution_count": 48,
      "outputs": [
        {
          "output_type": "execute_result",
          "data": {
            "text/html": [
              "<div>\n",
              "<style scoped>\n",
              "    .dataframe tbody tr th:only-of-type {\n",
              "        vertical-align: middle;\n",
              "    }\n",
              "\n",
              "    .dataframe tbody tr th {\n",
              "        vertical-align: top;\n",
              "    }\n",
              "\n",
              "    .dataframe thead th {\n",
              "        text-align: right;\n",
              "    }\n",
              "</style>\n",
              "<table border=\"1\" class=\"dataframe\">\n",
              "  <thead>\n",
              "    <tr style=\"text-align: right;\">\n",
              "      <th></th>\n",
              "      <th>과제명</th>\n",
              "      <th>요약문_연구목표</th>\n",
              "      <th>요약문_연구내용</th>\n",
              "      <th>요약문_기대효과</th>\n",
              "      <th>요약문_한글키워드</th>\n",
              "      <th>요약문_영문키워드</th>\n",
              "      <th>label</th>\n",
              "    </tr>\n",
              "  </thead>\n",
              "  <tbody>\n",
              "    <tr>\n",
              "      <th>0</th>\n",
              "      <td>유전정보를 활용한 새로운 해충 분류군 동정기술 개발</td>\n",
              "      <td>○ 새로운 해충분류군의 동정기술 개발 및 유입확산 추적</td>\n",
              "      <td>(가) 외래 및 돌발해충의 발생조사 및 종 동정\\n\\n\\n    ○ 대상해충 : 최...</td>\n",
              "      <td>○ 새로운 돌발 및 외래해충의 신속, 정확한 동정법 향상\\n\\n\\n○ 돌발 및 외래...</td>\n",
              "      <td>뉴클레오티드 염기서열, 분자마커, 종 동정, 침샘, 전사체</td>\n",
              "      <td>nucleotide sequence, molecular marker, species...</td>\n",
              "      <td>24</td>\n",
              "    </tr>\n",
              "    <tr>\n",
              "      <th>1</th>\n",
              "      <td>대장암의 TRAIL 내성 표적 인자 발굴 및 TRAIL 반응 예측 유전자 지도 구축...</td>\n",
              "      <td>최종목표:  TRAIL 감수성 표적 유전자를 발굴하고 내성제어 기전을 연구. 발굴된...</td>\n",
              "      <td>1차년도\\n1) Microarray를 통한 선천적 TRAIL 내성 표적 후보 유전자...</td>\n",
              "      <td>1) TRAIL 내성 특이적 표적분자를 발굴하고, 이를 이용한 TRAIL 효과 증진...</td>\n",
              "      <td>대장암,항암제 내성,세포사멸,유전자발굴</td>\n",
              "      <td>TRAIL,Colorectal cancer,TRAIL resistance,Apopt...</td>\n",
              "      <td>0</td>\n",
              "    </tr>\n",
              "    <tr>\n",
              "      <th>2</th>\n",
              "      <td>비목질계 셀룰로오스 식물자원을 활용한 기능성 부직포 및 고부가가치 뷰티케어 faci...</td>\n",
              "      <td>* 식물계자원 정련 및 최적 신서란 파이버 기초연구 개발\\n\\n\\n* 소비자 및 바...</td>\n",
              "      <td>* 식물계자원 정련 및 최적 신서란 파이버 기초연구 개발\\n\\n\\n- Tencel/...</td>\n",
              "      <td>* 국내 독자적인 비목질계 셀룰로오스 자원의 파이버 및 부직포 제조 등의 기술 확보...</td>\n",
              "      <td>기능성 샐룰로오스 파이버,천연섬유,기능성 부직포,뷰티&amp;amp;케어 제품,미용 솜</td>\n",
              "      <td>functional cellulose fiber,natural fiber,funct...</td>\n",
              "      <td>0</td>\n",
              "    </tr>\n",
              "    <tr>\n",
              "      <th>3</th>\n",
              "      <td>소화기 암 진단용 분자영상 형광프로브 개발</td>\n",
              "      <td>#  암특이적 바이오마커 발굴 및 바이오마커에 대한 프로브 개발\\n\\n\\n1) 소화...</td>\n",
              "      <td># 소화기 암 진단용 분자영상 형광프로브 개발\\n\\n\\n- 국소 도포형 소화기 암 ...</td>\n",
              "      <td># 암 진단기술의 차별성: 소화기 암 특이 프로브 개발\\n\\n\\n- 최근 체외진단시...</td>\n",
              "      <td>분자 진단,형광 조영제,프로브,항체,대장암</td>\n",
              "      <td>Molecular diagnosis,Fluorescence,probe,antibod...</td>\n",
              "      <td>0</td>\n",
              "    </tr>\n",
              "    <tr>\n",
              "      <th>4</th>\n",
              "      <td>위암환자의 항암제반응예측을 위한 BRCA 발현검사</td>\n",
              "      <td>수술이 불가능한 위암환자는 생존기간은 10개월 안팎에 지나지 않고, 항암화학요법에 ...</td>\n",
              "      <td>-In situ hybridization 검사의 정확성을 확인하기 위해 위암세포주 ...</td>\n",
              "      <td>-본 연구는 파라핀보관조직에서 in situ hybridization로 mRNA 및...</td>\n",
              "      <td>BRCA,제자리부합법,조직미세배열,마이크로RNA,위암,항암제반응,젊은 연령/가족성 위암</td>\n",
              "      <td>BRCA,Insituhybridization,tissuemicroarray,micr...</td>\n",
              "      <td>0</td>\n",
              "    </tr>\n",
              "  </tbody>\n",
              "</table>\n",
              "</div>"
            ],
            "text/plain": [
              "                                                 과제명  ... label\n",
              "0                       유전정보를 활용한 새로운 해충 분류군 동정기술 개발  ...    24\n",
              "1  대장암의 TRAIL 내성 표적 인자 발굴 및 TRAIL 반응 예측 유전자 지도 구축...  ...     0\n",
              "2  비목질계 셀룰로오스 식물자원을 활용한 기능성 부직포 및 고부가가치 뷰티케어 faci...  ...     0\n",
              "3                            소화기 암 진단용 분자영상 형광프로브 개발  ...     0\n",
              "4                        위암환자의 항암제반응예측을 위한 BRCA 발현검사  ...     0\n",
              "\n",
              "[5 rows x 7 columns]"
            ]
          },
          "metadata": {
            "tags": []
          },
          "execution_count": 48
        }
      ]
    },
    {
      "cell_type": "code",
      "metadata": {
        "id": "N5U2G3R_Hutd"
      },
      "source": [
        "train_file = train_file.dropna()"
      ],
      "execution_count": 33,
      "outputs": []
    },
    {
      "cell_type": "code",
      "metadata": {
        "id": "IZWaC98kQ66O",
        "colab": {
          "base_uri": "https://localhost:8080/",
          "height": 370
        },
        "outputId": "0d00cdc7-ba22-4d93-fc7c-f2c99f3d5546"
      },
      "source": [
        "test_file.head()"
      ],
      "execution_count": 47,
      "outputs": [
        {
          "output_type": "execute_result",
          "data": {
            "text/html": [
              "<div>\n",
              "<style scoped>\n",
              "    .dataframe tbody tr th:only-of-type {\n",
              "        vertical-align: middle;\n",
              "    }\n",
              "\n",
              "    .dataframe tbody tr th {\n",
              "        vertical-align: top;\n",
              "    }\n",
              "\n",
              "    .dataframe thead th {\n",
              "        text-align: right;\n",
              "    }\n",
              "</style>\n",
              "<table border=\"1\" class=\"dataframe\">\n",
              "  <thead>\n",
              "    <tr style=\"text-align: right;\">\n",
              "      <th></th>\n",
              "      <th>index</th>\n",
              "      <th>제출년도</th>\n",
              "      <th>사업명</th>\n",
              "      <th>사업_부처명</th>\n",
              "      <th>계속과제여부</th>\n",
              "      <th>내역사업명</th>\n",
              "      <th>과제명</th>\n",
              "      <th>요약문_연구목표</th>\n",
              "      <th>요약문_연구내용</th>\n",
              "      <th>요약문_기대효과</th>\n",
              "      <th>요약문_한글키워드</th>\n",
              "      <th>요약문_영문키워드</th>\n",
              "    </tr>\n",
              "  </thead>\n",
              "  <tbody>\n",
              "    <tr>\n",
              "      <th>0</th>\n",
              "      <td>174304</td>\n",
              "      <td>2016</td>\n",
              "      <td>경제협력권산업육성</td>\n",
              "      <td>산업통상자원부</td>\n",
              "      <td>신규</td>\n",
              "      <td>자동차융합부품</td>\n",
              "      <td>R-FSSW 기술 적용 경량 차체 부품 개발 및 품질 평가를 위한 64채널 C-SC...</td>\n",
              "      <td>○ 차체 점용접부의 품질 검사를 위한 64채널 무선 기반 C-Scan 탐촉자 개발\\...</td>\n",
              "      <td>○ 1차년도\\n\\n    . 개발 탐촉 시스템의 성능 평가 위한 표준 시편 제작 시...</td>\n",
              "      <td>○ 기술적 파급효과\\n\\n  - 본 연구에서 개발된 R-FSSW 접합 기술은 기존 ...</td>\n",
              "      <td>마찰교반점용접, 비파괴 검사, 초음파 탐상, 씨 스캔, 용접 품질 평가</td>\n",
              "      <td>Friction Stir Spot Welding, Non-destructive ev...</td>\n",
              "    </tr>\n",
              "    <tr>\n",
              "      <th>1</th>\n",
              "      <td>174305</td>\n",
              "      <td>2018</td>\n",
              "      <td>개인기초연구(과기정통부)(R&amp;D)</td>\n",
              "      <td>과학기술정보통신부</td>\n",
              "      <td>계속</td>\n",
              "      <td>신진연구(총연구비5천이상~1.5억이하)</td>\n",
              "      <td>다입자계를 묘사하는 편미분방정식에 대한 연구</td>\n",
              "      <td>자연계에는 입자의 개수가 아주 큰 다양한 다입자계가 존재한다.  이런 다입자계의 효...</td>\n",
              "      <td>연구과제1. 무한입자계의 동역학 / 작용소(operator) 방정식에 대한 연구\\n...</td>\n",
              "      <td>본 연구는 물리학에서 중요한 대상인 다입자계를 묘사하는 모델방정식의 정당성을 보장하...</td>\n",
              "      <td>다체계 방정식,동역학의 안정성,양자역학,고전역학,평균장 극한,고전극한,비상대론적 극한</td>\n",
              "      <td>many particle system,stability of dynamics,qua...</td>\n",
              "    </tr>\n",
              "    <tr>\n",
              "      <th>2</th>\n",
              "      <td>174306</td>\n",
              "      <td>2017</td>\n",
              "      <td>개인기초연구(미래부)</td>\n",
              "      <td>과학기술정보통신부</td>\n",
              "      <td>계속</td>\n",
              "      <td>자유공모</td>\n",
              "      <td>저출생체중아 가족을 위한 지역사회중심의 퇴원후 추후관리프로그램 개발</td>\n",
              "      <td>저출생체중아는 정상 체중 출생아에 비하여 운동, 정신, 행동 및 정서발달장애가 빈번...</td>\n",
              "      <td>본 연구는 퇴원 후 저출생체중아의 퇴원 후 추후관리 프로그램 중 가정방문 모델과 가...</td>\n",
              "      <td>본 연구는 저출생체중아 가족 대상의 지역사회기반의 추후관리 사업에 대한 구체적인 모...</td>\n",
              "      <td>저출생체중아,추후관리,조기개입,자조모임,가정방문</td>\n",
              "      <td>lowbirthweightinfant,followup,earlyinterventio...</td>\n",
              "    </tr>\n",
              "    <tr>\n",
              "      <th>3</th>\n",
              "      <td>174307</td>\n",
              "      <td>2018</td>\n",
              "      <td>산학연협력기술개발(R&amp;D)</td>\n",
              "      <td>중소벤처기업부</td>\n",
              "      <td>신규</td>\n",
              "      <td>전략 협력(지역유망)</td>\n",
              "      <td>폴리싱용 5축 CNC 정밀 마이크로 시스템 개발</td>\n",
              "      <td>최근 초정밀 공작기계 시장의 트렌드를 살펴보면 다음과 같다.\\n\\n\\n(1) 자동차...</td>\n",
              "      <td>(1) 0.5~1㎛의 가공정밀도(면조도) 구현\\n\\n\\n - 국내에서는 연삭기를 제...</td>\n",
              "      <td>(1) 가공 공정 및 소요시간 단축\\n\\n\\n   초정밀금형 가공시 정삭 후 추가적...</td>\n",
              "      <td>초정밀가공,폴리싱 가공,마이크로,경면가공,난삭재가공</td>\n",
              "      <td>superprecision,hiprecision,micro,mirror like f...</td>\n",
              "    </tr>\n",
              "    <tr>\n",
              "      <th>4</th>\n",
              "      <td>174308</td>\n",
              "      <td>2019</td>\n",
              "      <td>이공학학술연구기반구축(R&amp;D)</td>\n",
              "      <td>교육부</td>\n",
              "      <td>계속</td>\n",
              "      <td>지역대학우수과학자지원사업(1년~5년)</td>\n",
              "      <td>다결정재료의 미세조직구조를 고려한 확률론적 응력부식균열 생성예측모델 개발</td>\n",
              "      <td>본 연구의 최종목표는 다결정 금속재료의 미세조직구조를 고려한 확률론적 응력부식균열(...</td>\n",
              "      <td>총 연구기간은 3년으로, 연차별 연구내용 및 범위는 다음과 같다.\\n\\n  ∙ 1차...</td>\n",
              "      <td>본 연구의 중요성 및 활용가능성은 다음과 같다.\\n\\n  ∙ 기존의 재료전체 ave...</td>\n",
              "      <td>결정구조,응력부식균열,확률론적모델</td>\n",
              "      <td>Crystalline structure,Stress corrosion crackin...</td>\n",
              "    </tr>\n",
              "  </tbody>\n",
              "</table>\n",
              "</div>"
            ],
            "text/plain": [
              "    index  ...                                          요약문_영문키워드\n",
              "0  174304  ...  Friction Stir Spot Welding, Non-destructive ev...\n",
              "1  174305  ...  many particle system,stability of dynamics,qua...\n",
              "2  174306  ...  lowbirthweightinfant,followup,earlyinterventio...\n",
              "3  174307  ...  superprecision,hiprecision,micro,mirror like f...\n",
              "4  174308  ...  Crystalline structure,Stress corrosion crackin...\n",
              "\n",
              "[5 rows x 12 columns]"
            ]
          },
          "metadata": {
            "tags": []
          },
          "execution_count": 47
        }
      ]
    },
    {
      "cell_type": "code",
      "metadata": {
        "id": "VrMwlwaGQWhd"
      },
      "source": [
        "train_ds = train_file[['과제명','label']]\n",
        "test_ds = test_file[['과제명']]"
      ],
      "execution_count": 49,
      "outputs": []
    },
    {
      "cell_type": "code",
      "metadata": {
        "colab": {
          "base_uri": "https://localhost:8080/"
        },
        "id": "HVPsZirbzcvl",
        "outputId": "f1bcf5cd-bfa4-478b-c14c-d4a47e54295f"
      },
      "source": [
        "train_ds.shape"
      ],
      "execution_count": 37,
      "outputs": [
        {
          "output_type": "execute_result",
          "data": {
            "text/plain": [
              "(171138, 2)"
            ]
          },
          "metadata": {
            "tags": []
          },
          "execution_count": 37
        }
      ]
    },
    {
      "cell_type": "markdown",
      "metadata": {
        "id": "07QLzoJfruQ2"
      },
      "source": [
        "# 데이터 전처리 과정  \n",
        "내부의 특수기호, 공백 등을 삭제하고 훈련을 위한 단어만을 추출하는 과정"
      ]
    },
    {
      "cell_type": "code",
      "metadata": {
        "id": "TagwvLUKlE0x"
      },
      "source": [
        "okt = Okt()\n",
        "komoran = Komoran()\n",
        "kkma = Kkma()"
      ],
      "execution_count": null,
      "outputs": []
    },
    {
      "cell_type": "code",
      "metadata": {
        "id": "Q19TFcxJQWfI"
      },
      "source": [
        "# 전처리 과정\n",
        "def preprocessing(text, tool):\n",
        "  text = re.sub(\"[^가-힣ㄱ-ㅎㅏ-ㅣ]\",\"\", text) # 한글 및 공백을 제외한 문자 제거(영문자, 특수문자)\n",
        "  nouns = tool.nouns(text)\n",
        "  return nouns"
      ],
      "execution_count": null,
      "outputs": []
    },
    {
      "cell_type": "code",
      "metadata": {
        "colab": {
          "base_uri": "https://localhost:8080/"
        },
        "id": "DCOlzqW7oMEX",
        "outputId": "e39a49fa-9ded-47be-f6cb-b5449d6443fd"
      },
      "source": [
        "# 일단 과제명으로 테스트 한 후 진행...\n",
        "print(train_file['과제명'][0])"
      ],
      "execution_count": null,
      "outputs": [
        {
          "output_type": "stream",
          "text": [
            "유전정보를 활용한 새로운 해충 분류군 동정기술 개발\n"
          ],
          "name": "stdout"
        }
      ]
    },
    {
      "cell_type": "code",
      "metadata": {
        "colab": {
          "base_uri": "https://localhost:8080/"
        },
        "id": "T83-hQTenhTT",
        "outputId": "4fe08f35-b468-4c0b-9967-61abcb3cbdae"
      },
      "source": [
        "nouns = komoran.nouns(train_file['과제명'][0])\n",
        "print(komoran.morphs(train_file['과제명'][0]))\n",
        "print(komoran.pos(train_file['과제명'][0]))\n",
        "print(nouns)"
      ],
      "execution_count": null,
      "outputs": [
        {
          "output_type": "stream",
          "text": [
            "['유전', '정보', '를', '활용', '하', 'ㄴ', '새롭', 'ㄴ', '해충', '분류군', '동정', '기술', '개발']\n",
            "[('유전', 'NNP'), ('정보', 'NNG'), ('를', 'JKO'), ('활용', 'NNG'), ('하', 'XSV'), ('ㄴ', 'ETM'), ('새롭', 'VA'), ('ㄴ', 'ETM'), ('해충', 'NNP'), ('분류군', 'NNP'), ('동정', 'NNP'), ('기술', 'NNP'), ('개발', 'NNG')]\n",
            "['유전', '정보', '활용', '해충', '분류군', '동정', '기술', '개발']\n"
          ],
          "name": "stdout"
        }
      ]
    },
    {
      "cell_type": "code",
      "metadata": {
        "colab": {
          "base_uri": "https://localhost:8080/"
        },
        "id": "V5atTyd9nhQo",
        "outputId": "ce04c818-a86a-46a6-9072-0de7e2c6ad2d"
      },
      "source": [
        "nouns = kkma.nouns(train_file['과제명'][0])\n",
        "print(kkma.pos(train_file['과제명'][0]))\n",
        "print(nouns)"
      ],
      "execution_count": null,
      "outputs": [
        {
          "output_type": "stream",
          "text": [
            "[('유전', 'NNG'), ('정보', 'NNG'), ('를', 'JKO'), ('활용', 'NNG'), ('하', 'XSV'), ('ㄴ', 'ETD'), ('새', 'NNG'), ('롭', 'XSA'), ('ㄴ', 'ETD'), ('해충', 'NNG'), ('분류', 'NNG'), ('군', 'NNG'), ('동정', 'NNG'), ('기술', 'NNG'), ('개발', 'NNG')]\n",
            "['유전', '유전정보', '정보', '활용', '새', '해충', '분류', '분류군', '군', '동정', '동정기술', '기술', '개발']\n"
          ],
          "name": "stdout"
        }
      ]
    },
    {
      "cell_type": "code",
      "metadata": {
        "colab": {
          "base_uri": "https://localhost:8080/"
        },
        "id": "XP2XGB4Xourr",
        "outputId": "8e7702e3-78e3-4785-be72-5d7463522266"
      },
      "source": [
        "stop_words=['은','는','이','가', '하','아','것','들','의','있','되','수','보','주','등','한']\n",
        "komoran = Komoran()\n",
        "clean_train_text=[]\n",
        "clean_test_text=[]\n",
        "\n",
        "for text in tqdm.tqdm(train_ds['과제명']):\n",
        "    try:\n",
        "        clean_train_text.append(preprocessing(text, komoran))\n",
        "    except:\n",
        "        clean_train_text.append([])\n",
        "\n",
        "for text in tqdm.tqdm(test_ds['과제명']):\n",
        "    if type(text) == str:\n",
        "        clean_test_text.append(preprocessing(text, komoran))\n",
        "    else:\n",
        "        clean_test_text.append([])"
      ],
      "execution_count": null,
      "outputs": [
        {
          "output_type": "stream",
          "text": [
            "100%|██████████| 171138/171138 [01:38<00:00, 1742.40it/s]\n",
            "100%|██████████| 43576/43576 [00:25<00:00, 1690.11it/s]\n"
          ],
          "name": "stderr"
        }
      ]
    },
    {
      "cell_type": "code",
      "metadata": {
        "id": "vddDJu7Aq6S9"
      },
      "source": [
        "def max_len(text):\n",
        "  max = 0\n",
        "  for i in text:\n",
        "    if len(i) > max :\n",
        "      max = len(i)\n",
        "\n",
        "  return max\n",
        "\n",
        "maxlen = max_len(clean_train_text)"
      ],
      "execution_count": null,
      "outputs": []
    },
    {
      "cell_type": "code",
      "metadata": {
        "colab": {
          "base_uri": "https://localhost:8080/"
        },
        "id": "5tX7hE1DrSOF",
        "outputId": "d0c7a3d7-d4d8-493e-c574-774f82c9cdb2"
      },
      "source": [
        "clean_train_text[0]"
      ],
      "execution_count": null,
      "outputs": [
        {
          "output_type": "execute_result",
          "data": {
            "text/plain": [
              "['유전', '정보', '활용', '해충', '분류군', '동정', '기술', '개발']"
            ]
          },
          "metadata": {
            "tags": []
          },
          "execution_count": 21
        }
      ]
    },
    {
      "cell_type": "code",
      "metadata": {
        "id": "0cAaI3aZouph"
      },
      "source": [
        "#텐서플로의 전처리 모듈을 활용해 토크나이징 객체를 만든 후 인덱스 벡터로 전환\n",
        "tokenizer=Tokenizer()\n",
        "tokenizer.fit_on_texts(clean_train_text)\n",
        "\n",
        "train_sequences=tokenizer.texts_to_sequences(clean_train_text)\n",
        "test_sequences=tokenizer.texts_to_sequences(clean_test_text)\n",
        "word_vocab=tokenizer.word_index\n",
        "\n",
        "#패딩 처리\n",
        "train_inputs=pad_sequences(train_sequences, maxlen=maxlen, padding='post')\n",
        "test_inputs=pad_sequences(test_sequences, maxlen=maxlen, padding='post')"
      ],
      "execution_count": null,
      "outputs": []
    },
    {
      "cell_type": "code",
      "metadata": {
        "id": "7i5pzvQxounM"
      },
      "source": [
        "# label\n",
        "labels = np.array(train_ds['label'])"
      ],
      "execution_count": null,
      "outputs": []
    },
    {
      "cell_type": "markdown",
      "metadata": {
        "id": "u7v-snORr__o"
      },
      "source": [
        "# 학습\n",
        "기본적으로 CNN을 사용해 주제 분류를 하고자 한다."
      ]
    },
    {
      "cell_type": "code",
      "metadata": {
        "id": "fXy-qF5MouXE"
      },
      "source": [
        "# Modeling\n",
        "Total_size = len(word_vocab) + 1\n",
        "embedding_size = 128\n",
        "dropout = 0.5\n",
        "epoch = 300\n",
        "\n",
        "input_layer = Input(shape=(maxlen,))\n",
        "embedding_layer = Embedding(Total_size, embedding_size, input_length=maxlen)(input_layer)\n",
        "dropout_emb = Dropout(rate = dropout)(embedding_layer)\n",
        "\n",
        "conv1 = Conv1D(filters = 128, kernel_size = 3, padding = 'valid',activation = tf.nn.gelu)(dropout_emb)\n",
        "pool1 = GlobalMaxPool1D()(conv1)\n",
        "\n",
        "conv2 = Conv1D(filters = 128, kernel_size = 4, padding = 'valid', activation = tf.nn.gelu)(dropout_emb)\n",
        "pool2 = GlobalMaxPool1D()(conv2)\n",
        "\n",
        "conv3 = Conv1D(filters = 128, kernel_size = 5, padding = 'valid', activation = tf.nn.gelu)(dropout_emb)\n",
        "pool3 = GlobalMaxPool1D()(conv3)\n",
        "\n",
        "concat = concatenate([pool1,pool2,pool3])\n",
        "hidden = Dense(128, activation=tf.nn.gelu)(concat)\n",
        "dropout_hidden = Dropout(rate=dropout)(hidden)\n",
        "logits = Dense(46, name = 'logits')(dropout_hidden)\n",
        "predictions = Dense(46,activation=tf.nn.softmax)(logits)"
      ],
      "execution_count": null,
      "outputs": []
    },
    {
      "cell_type": "code",
      "metadata": {
        "id": "InpCUsGaouUp"
      },
      "source": [
        "model = Model(inputs = input_layer, outputs = predictions)\n",
        "model.compile(optimizer = tf.keras.optimizers.Nadam(), loss = 'sparse_categorical_crossentropy', metrics = ['accuracy'])"
      ],
      "execution_count": null,
      "outputs": []
    },
    {
      "cell_type": "code",
      "metadata": {
        "id": "DhzfEjKdW1_m"
      },
      "source": [
        "model.summary()"
      ],
      "execution_count": null,
      "outputs": []
    },
    {
      "cell_type": "code",
      "metadata": {
        "id": "ZbsQWRDZ46Hl"
      },
      "source": [
        "Stopper = EarlyStopping(monitor='accuracy', mode = 'max', verbose = 1, patience = 10)"
      ],
      "execution_count": null,
      "outputs": []
    },
    {
      "cell_type": "code",
      "metadata": {
        "id": "UWqY5bHJu_j4"
      },
      "source": [
        "model.fit(train_inputs, labels, epochs = epoch, verbose = 2, validation_split= 0.2, callbacks = Stopper)"
      ],
      "execution_count": null,
      "outputs": []
    },
    {
      "cell_type": "markdown",
      "metadata": {
        "id": "pX5JNRuMsHUp"
      },
      "source": [
        "# 제출 파일"
      ]
    },
    {
      "cell_type": "code",
      "metadata": {
        "id": "Gzah0NAkwzr1"
      },
      "source": [
        "sample_submission = pd.read_csv('./sample_submission.csv')"
      ],
      "execution_count": null,
      "outputs": []
    },
    {
      "cell_type": "code",
      "metadata": {
        "id": "5MMuicNLu_gy"
      },
      "source": [
        "pred = model.predict(test_inputs)\n",
        "pred=tf.argmax(pred, axis=1)\n",
        "sample_submission['label']=pred\n",
        "sample_submission.to_csv('./result_0725_1.csv', index=False)"
      ],
      "execution_count": null,
      "outputs": []
    }
  ]
}